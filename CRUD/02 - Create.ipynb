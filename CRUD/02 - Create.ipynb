{
 "cells": [
  {
   "cell_type": "code",
   "execution_count": null,
   "metadata": {},
   "outputs": [],
   "source": [
    "# Create\n",
    "\n",
    "from my_conn import conn\n",
    "\n",
    "connection = conn()\n",
    "\n",
    "# Data\n",
    "id = 1;\n",
    "name = 'milad';\n",
    "address = '132, Some Street, Somewhere, Some Town 12401 Some country'\n",
    "\n",
    "\n",
    "# Creation\n",
    "sql = \"insert into users (`id`, `name`, `address`) values (%s, %s, %s);\"\n",
    "\n",
    "#  print(help(connection.cursor))\n",
    "\n",
    "try:\n",
    "    connection.cursor().execute(sql, (id, name, address))\n",
    "    connection.commit()\n",
    "    print('Added successfully');\n",
    "except:\n",
    "    print('Something went wrong while running sql')\n",
    "finally:\n",
    "    connection.close()"
   ]
  }
 ],
 "metadata": {
  "kernelspec": {
   "display_name": "Python 3",
   "language": "python",
   "name": "python3"
  },
  "language_info": {
   "codemirror_mode": {
    "name": "ipython",
    "version": 3
   },
   "file_extension": ".py",
   "mimetype": "text/x-python",
   "name": "python",
   "nbconvert_exporter": "python",
   "pygments_lexer": "ipython3",
   "version": "3.5.2"
  }
 },
 "nbformat": 4,
 "nbformat_minor": 2
}
