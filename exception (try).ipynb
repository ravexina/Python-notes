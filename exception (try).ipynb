{
 "cells": [
  {
   "cell_type": "code",
   "execution_count": null,
   "metadata": {},
   "outputs": [],
   "source": [
    "try:\n",
    "    # some statements that works fine\n",
    "    pass\n",
    "except:\n",
    "    # handle the exception\n",
    "    pass\n",
    "else:\n",
    "    print('try part was passed fine')\n",
    "finally:\n",
    "    print('finally we are here')\n",
    "\n",
    "# Continue\n",
    "print('we are here now')"
   ]
  },
  {
   "cell_type": "code",
   "execution_count": null,
   "metadata": {},
   "outputs": [],
   "source": [
    "try:\n",
    "    a = 1\n",
    "    b = '2'\n",
    "    a += b\n",
    "except:\n",
    "    print('I wasn\\'t able to get the total')\n",
    "else:\n",
    "    print('everything went fine')\n",
    "finally:\n",
    "    print('end of script')"
   ]
  },
  {
   "cell_type": "code",
   "execution_count": null,
   "metadata": {},
   "outputs": [],
   "source": [
    "status = True\n",
    "lst = []\n",
    "while status:\n",
    "    try:\n",
    "        val = int(input('Enter an integer:'))\n",
    "    except ValueError:\n",
    "        print('Please print an integer!')\n",
    "    else:\n",
    "        lst.append(val)\n",
    "        if len(lst) == 5:\n",
    "            status = False\n",
    "    \n",
    "print(lst)\n",
    "sum(lst)"
   ]
  },
  {
   "cell_type": "code",
   "execution_count": null,
   "metadata": {},
   "outputs": [],
   "source": [
    "import numpy as np"
   ]
  },
  {
   "cell_type": "code",
   "execution_count": null,
   "metadata": {},
   "outputs": [],
   "source": [
    "np.prod(lst)"
   ]
  }
 ],
 "metadata": {
  "kernelspec": {
   "display_name": "Python 3",
   "language": "python",
   "name": "python3"
  },
  "language_info": {
   "codemirror_mode": {
    "name": "ipython",
    "version": 3
   },
   "file_extension": ".py",
   "mimetype": "text/x-python",
   "name": "python",
   "nbconvert_exporter": "python",
   "pygments_lexer": "ipython3",
   "version": "3.5.2"
  }
 },
 "nbformat": 4,
 "nbformat_minor": 2
}
