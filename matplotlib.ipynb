{
 "cells": [
  {
   "cell_type": "code",
   "execution_count": null,
   "metadata": {},
   "outputs": [],
   "source": [
    "import matplotlib.pyplot as plot"
   ]
  },
  {
   "cell_type": "code",
   "execution_count": null,
   "metadata": {},
   "outputs": [],
   "source": [
    "import numpy as np"
   ]
  },
  {
   "cell_type": "code",
   "execution_count": null,
   "metadata": {},
   "outputs": [],
   "source": [
    "# Creating a bar chart\n",
    "\n",
    "x = [2, 4, 6, 8, 10]\n",
    "y = [6,  7, 2, 4, 2]\n",
    "\n",
    "plot.bar(x, y, label='Bars')\n",
    "\n",
    "plot.xlabel('x')\n",
    "plot.ylabel('y')\n",
    "plot.legend()\n",
    "plot.title('Ravexina')\n",
    "plot.show()"
   ]
  },
  {
   "cell_type": "code",
   "execution_count": null,
   "metadata": {},
   "outputs": [],
   "source": [
    "x = [2, 4, 6, 8, 10]\n",
    "y = [6,  7, 2, 4, 2]\n",
    "\n",
    "x2 = [1,8,12,18,22]\n",
    "y2 = [6,7,8,9,10]\n",
    "\n",
    "#plot.bar(x, y, label='Bars')\n",
    "#plot.bar(x2, y2, label='Bars2')\n",
    "\n",
    "plot.bar(x, y, label='Bars', color='c')\n",
    "plot.bar(x2, y2, label='Bars2', color='b')\n",
    "\n",
    "plot.xlabel('x2')\n",
    "plot.ylabel('y2')\n",
    "\n",
    "plot.legend()\n",
    "\n",
    "plot.title('Something as a title')\n",
    "plot.show()"
   ]
  },
  {
   "cell_type": "code",
   "execution_count": null,
   "metadata": {},
   "outputs": [],
   "source": [
    "# Creating a histogram\n",
    "\n",
    "from random import randint\n",
    "\n",
    "birth = []\n",
    "\n",
    "for i in range(100):\n",
    "        birth.append(randint(1900, 2018))\n",
    "\n",
    "bins = [1900,1920,1940,1960,1980,2000,2020]\n",
    "\n",
    "plot.hist(birth, bins, histtype='bar', rwidth=0.5, color='darkviolet') #step, stepfilled\n",
    "\n",
    "plot.title('Birth Histogram')\n",
    "plot.show()"
   ]
  },
  {
   "cell_type": "code",
   "execution_count": null,
   "metadata": {},
   "outputs": [],
   "source": [
    "# evenly sampled time at 200ms intervals\n",
    "t = np.arange(0., 2., .05)\n",
    "\n",
    "t"
   ]
  },
  {
   "cell_type": "code",
   "execution_count": null,
   "metadata": {},
   "outputs": [],
   "source": [
    "# Figure instance\n",
    "figure = plot.figure()\n",
    "\n",
    "figure.set_figwidth(8)\n",
    "figure.set_figheight(12)\n",
    "\n",
    "plot.subplot(3,1,2)\n",
    "plot.plot(t, t, 'm--', t, t**2, 'b^', t, t**3, 'gs', t, t**t, 'ro')\n",
    "\n",
    "plot.subplot(3,1,3)\n",
    "plot.plot(t, t, 'm', t, t**2, 'b', t, t**3, 'g', t, t**t, 'r')\n",
    "\n",
    "\n",
    "plot.show()\n",
    "\n",
    "# https://matplotlib.org/api/markers_api.html"
   ]
  },
  {
   "cell_type": "code",
   "execution_count": null,
   "metadata": {},
   "outputs": [],
   "source": [
    "def f(t):\n",
    "    return np.exp(-t) * np.cos(2*np.pi*t)\n",
    "\n",
    "t1 = np.arange(0.0, 5.0, 0.1)\n",
    "t2 = np.arange(0.0, 5.0, 0.02) # more sampling\n",
    "\n",
    "plt.figure(1)\n",
    "\n",
    "plt.subplot(211)\n",
    "plt.plot(t1, f(t1), 'bo', t2, f(t2), 'b')\n",
    "\n",
    "plt.subplot(212)\n",
    "plt.plot(t2,np.cos(2*np.pi*t2), 'r,')\n",
    "plt.show()"
   ]
  },
  {
   "cell_type": "code",
   "execution_count": null,
   "metadata": {},
   "outputs": [],
   "source": [
    "ax = plot.subplot(111)\n",
    "\n",
    "t = np.arange(0.0, 5.0, 0.01)\n",
    "s = np.cos(2*np.pi*t)\n",
    "plot.plot(t, s, 'b')\n",
    "\n",
    "plot.annotate('Local Max', xy=(2, 1), xytext=(3, 1.5),arrowprops=dict(facecolor='darkviolet', shrink=0.05))\n",
    "plot.annotate('Local Min', xy=(1.5, -1), xytext=(2, -1.5),arrowprops=dict(facecolor='red', shrink=0.005))\n",
    "\n",
    "\n",
    "#plot.xlim(-10,10)\n",
    "plot.ylim(-2,2)\n",
    "\n",
    "plot.show()"
   ]
  },
  {
   "cell_type": "code",
   "execution_count": null,
   "metadata": {},
   "outputs": [],
   "source": [
    "# Fixing random state for reproducibility\n",
    "\n",
    "mu, sigma = 100, 15\n",
    "x = mu + sigma * np.random.randn(1000)\n",
    "\n",
    "# the histogram of the data\n",
    "plot.hist(x, 20, normed=1, facecolor='k', alpha=0.65)\n",
    "\n",
    "plot.xlabel('Smarts')\n",
    "plot.ylabel('Probability')\n",
    "plot.title('Histogram of IQ')\n",
    "plot.text(60, .025, r'$\\mu=100,\\ \\sigma=15$')\n",
    "plot.axis([40, 160, 0, 0.03])\n",
    "plot.grid(True)\n",
    "plot.show()"
   ]
  },
  {
   "cell_type": "code",
   "execution_count": null,
   "metadata": {},
   "outputs": [],
   "source": [
    "mu, sigma = 80, 25\n",
    "x = mu + sigma * np.random.randn(500)\n",
    "\n",
    "# the histogram of the data\n",
    "\n",
    "y = [z[0] for z in enumerate(x)]\n",
    "\n",
    "plot.plot(y, x, 'ro', alpha=0.25)\n",
    "#plot.xlim(100,200)\n",
    "plot.grid(True)\n",
    "plot.show()"
   ]
  }
 ],
 "metadata": {
  "kernelspec": {
   "display_name": "Python 3",
   "language": "python",
   "name": "python3"
  },
  "language_info": {
   "codemirror_mode": {
    "name": "ipython",
    "version": 3
   },
   "file_extension": ".py",
   "mimetype": "text/x-python",
   "name": "python",
   "nbconvert_exporter": "python",
   "pygments_lexer": "ipython3",
   "version": "3.5.2"
  }
 },
 "nbformat": 4,
 "nbformat_minor": 2
}
