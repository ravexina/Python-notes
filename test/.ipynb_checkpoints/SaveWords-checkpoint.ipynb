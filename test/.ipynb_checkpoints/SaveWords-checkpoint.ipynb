{
 "cells": [
  {
   "cell_type": "code",
   "execution_count": 9,
   "metadata": {},
   "outputs": [],
   "source": [
    "\"\"\"\" The Natural Language Toolkit, or more commonly NLTK, is a suite of libraries and programs \n",
    "for symbolic and statistical natural language processing for English written in the Python programming language.\"\"\"\n",
    "\n",
    "import nltk\n",
    "#nltk.download() #shekspear, stopwords, etc"
   ]
  },
  {
   "cell_type": "code",
   "execution_count": 114,
   "metadata": {},
   "outputs": [],
   "source": [
    "#names = {'size': set(), 'the': set(), 'good': set(), 'sister': set(), 'spirit': set()}\n",
    "\n",
    "list_of_names = ['size', 'the', 'men', 'chatty', 'good', 'bad', 'sister', 'spirit', 'call']\n",
    "\n",
    "values = [ set()  for i in list_of_names]\n",
    "\n",
    "names = {key: set() for key in list_of_names}\n",
    "token = []\n",
    "for file in [1, 2, 3]:\n",
    "    file_name = str(file)+'.txt'\n",
    "    f = open(file_name, 'r')\n",
    "    data = f.read()\n",
    "    tokens = nltk.word_tokenize(data)\n",
    "    token.append(tokens)\n",
    "    for name in names.keys():\n",
    "        #print('checking', name, 'in file:', file_name, end='')\n",
    "        if name in tokens:\n",
    "            #print(' [found]', end='')\n",
    "            names[name].add(file)\n",
    "        #print()\n",
    "    f.close()"
   ]
  },
  {
   "cell_type": "code",
   "execution_count": 115,
   "metadata": {},
   "outputs": [
    {
     "data": {
      "text/plain": [
       "{'bad': set(),\n",
       " 'call': {3},\n",
       " 'chatty': {2, 3},\n",
       " 'good': set(),\n",
       " 'men': {1, 2},\n",
       " 'sister': {1, 2},\n",
       " 'size': set(),\n",
       " 'spirit': {1, 3},\n",
       " 'the': {1, 2, 3}}"
      ]
     },
     "execution_count": 115,
     "metadata": {},
     "output_type": "execute_result"
    }
   ],
   "source": [
    "names"
   ]
  },
  {
   "cell_type": "code",
   "execution_count": 108,
   "metadata": {},
   "outputs": [
    {
     "data": {
      "text/plain": [
       "set()"
      ]
     },
     "execution_count": 108,
     "metadata": {},
     "output_type": "execute_result"
    }
   ],
   "source": [
    "names['size'].intersection(names['sister'])"
   ]
  },
  {
   "cell_type": "code",
   "execution_count": 109,
   "metadata": {},
   "outputs": [
    {
     "data": {
      "text/plain": [
       "{1}"
      ]
     },
     "execution_count": 109,
     "metadata": {},
     "output_type": "execute_result"
    }
   ],
   "source": [
    "names['spirit'].intersection(names['sister'])"
   ]
  },
  {
   "cell_type": "code",
   "execution_count": 110,
   "metadata": {},
   "outputs": [
    {
     "data": {
      "text/plain": [
       "{1, 2, 3}"
      ]
     },
     "execution_count": 110,
     "metadata": {},
     "output_type": "execute_result"
    }
   ],
   "source": [
    "names['spirit'].union(names['sister'])"
   ]
  },
  {
   "cell_type": "code",
   "execution_count": 113,
   "metadata": {},
   "outputs": [
    {
     "data": {
      "text/plain": [
       "{1}"
      ]
     },
     "execution_count": 113,
     "metadata": {},
     "output_type": "execute_result"
    }
   ],
   "source": [
    "names['spirit'].intersection(names['men'])"
   ]
  },
  {
   "cell_type": "code",
   "execution_count": 117,
   "metadata": {},
   "outputs": [
    {
     "data": {
      "text/plain": [
       "{3}"
      ]
     },
     "execution_count": 117,
     "metadata": {},
     "output_type": "execute_result"
    }
   ],
   "source": [
    "names['spirit'].difference(names['sister'])"
   ]
  }
 ],
 "metadata": {
  "kernelspec": {
   "display_name": "Python 3",
   "language": "python",
   "name": "python3"
  },
  "language_info": {
   "codemirror_mode": {
    "name": "ipython",
    "version": 3
   },
   "file_extension": ".py",
   "mimetype": "text/x-python",
   "name": "python",
   "nbconvert_exporter": "python",
   "pygments_lexer": "ipython3",
   "version": "3.5.2"
  }
 },
 "nbformat": 4,
 "nbformat_minor": 2
}
